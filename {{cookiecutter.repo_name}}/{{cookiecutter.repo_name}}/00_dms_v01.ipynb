{
 "cells": [
  {
   "cell_type": "code",
   "execution_count": null,
   "metadata": {},
   "outputs": [],
   "source": [
    "from rohan.global_imports import *"
   ]
  },
  {
   "cell_type": "markdown",
   "metadata": {},
   "source": [
    "## step01"
   ]
  },
  {
   "cell_type": "code",
   "execution_count": null,
   "metadata": {},
   "outputs": [],
   "source": [
    "df00=pd.read_csv(cfg['ddms_rawp'],header=4)\n",
    "from rohan.dandage.io_strs import replacemany\n",
    "df1=df00.join(df00['hgvs_pro'].str.split('.').apply(pd.Series)[1].apply(lambda x: \n",
    "[x[:3],x[-3:],int(replacemany(x,[x[:3],x[-3:]]))] \n",
    ").apply(pd.Series).rename(columns={0:'reference',1:'mutated',2:'position'}))\n",
    "from rohan.dandage.io_seqs import aathreeletters2one\n",
    "for col in ['reference','mutated']:\n",
    "    df1[col]=df1[col].apply(aathreeletters2one)\n",
    "df1=df1.sort_values(by=['position'])\n",
    "to_table(df1,'data/data_analysed/data00_step0/ddms.tsv')"
   ]
  },
  {
   "cell_type": "code",
   "execution_count": null,
   "metadata": {},
   "outputs": [],
   "source": [
    "## trash"
   ]
  },
  {
   "cell_type": "markdown",
   "metadata": {},
   "source": [
    "## step02"
   ]
  },
  {
   "cell_type": "code",
   "execution_count": null,
   "metadata": {},
   "outputs": [],
   "source": [
    "# def get02_ddms_corr(ddmsp,ddms_corrp):\n",
    "df1=read_table('data/data_analysed/data00_step0/ddms.tsv')\n",
    "df2=df1.select_dtypes(float).dropna(how='all',axis=1).corr(method='spearman')\n",
    "to_table(df2,'data/data_analysed/data00_step0/ddms_corr.tsv')"
   ]
  }
 ],
 "metadata": {
  "kernelspec": {
   "display_name": "Python 3",
   "language": "python",
   "name": "python3"
  },
  "language_info": {
   "codemirror_mode": {
    "name": "ipython",
    "version": 3
   },
   "file_extension": ".py",
   "mimetype": "text/x-python",
   "name": "python",
   "nbconvert_exporter": "python",
   "pygments_lexer": "ipython3",
   "version": "3.6.7"
  }
 },
 "nbformat": 4,
 "nbformat_minor": 4
}
